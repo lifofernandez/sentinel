{
 "cells": [
  {
   "cell_type": "code",
   "execution_count": 1,
   "id": "bde40e76",
   "metadata": {
    "ExecuteTime": {
     "end_time": "2021-06-21T19:44:43.330919Z",
     "start_time": "2021-06-21T19:44:43.294314Z"
    }
   },
   "outputs": [],
   "source": [
    "import sys\n",
    "import os\n",
    "import yaml\n",
    "import numpy as np\n",
    "import soundfile as sf\n",
    "from datetime import datetime, timedelta\n",
    "from pathlib import Path\n",
    "import importlib as imp"
   ]
  },
  {
   "cell_type": "code",
   "execution_count": 2,
   "id": "26facdc6",
   "metadata": {
    "ExecuteTime": {
     "end_time": "2021-06-21T19:44:51.114672Z",
     "start_time": "2021-06-21T19:44:50.812255Z"
    }
   },
   "outputs": [
    {
     "data": {
      "text/plain": [
       "<module 'acoustic_field.soundscape' from 'C:\\\\Users\\\\Camilo\\\\acoustic_field\\\\soundscape.py'>"
      ]
     },
     "execution_count": 2,
     "metadata": {},
     "output_type": "execute_result"
    }
   ],
   "source": [
    "homedir = str(Path.home())\n",
    "sentineldir = str(Path.home() / 'sentinel/')\n",
    "configdir = str(Path.home() / 'sentinel' / 'configs')\n",
    "configdir2 = str(Path.home() / 'acoustic_field' / 'config')\n",
    "recorddir = str(Path.home() / 'Recordings/')\n",
    "sys.path.append(homedir)\n",
    "import acoustic_field.soundscape as sc\n",
    "imp.reload(sc)"
   ]
  },
  {
   "cell_type": "code",
   "execution_count": 6,
   "id": "219e916e",
   "metadata": {
    "ExecuteTime": {
     "end_time": "2021-06-21T19:45:28.671463Z",
     "start_time": "2021-06-21T19:45:28.653540Z"
    }
   },
   "outputs": [
    {
     "data": {
      "text/plain": [
       "{'sesion': 'Rivarola',\n",
       " 'logfile': '/home/pi/',\n",
       " 'nchan': 2,\n",
       " 'nbytes': 2,\n",
       " 'pkeys': ['aci', 'bi', 'ndsi', 'aei', 'adi', 'hs', 'ht', 'sc', 'db'],\n",
       " 'GSM': {'apn': '\"wap.gprs.unifon.com.ar\"',\n",
       "  'url': 'https://script.google.com/macros/s/AKfycbyQX_xnblS1c3M712v-OItr6Se6FcfE19WsiIfW/exec',\n",
       "  'timeout': 180,\n",
       "  'offset_file': '/tmp/offset.tmp',\n",
       "  'queue': '/tmp/queue.tmp'}}"
      ]
     },
     "execution_count": 6,
     "metadata": {},
     "output_type": "execute_result"
    }
   ],
   "source": [
    "with open(configdir + '/options.yaml') as file:\n",
    "        opt = yaml.load(file, Loader=yaml.FullLoader)\n",
    "opt        "
   ]
  },
  {
   "cell_type": "code",
   "execution_count": 5,
   "id": "d44aa5de",
   "metadata": {
    "ExecuteTime": {
     "end_time": "2021-06-21T19:45:21.768294Z",
     "start_time": "2021-06-21T19:45:21.748351Z"
    }
   },
   "outputs": [
    {
     "data": {
      "text/plain": [
       "{'sr': 48000,\n",
       " 'windowSize': 480,\n",
       " 'hipass': False,\n",
       " 'Filtering': {'sr': 48000, 'order': 8, 'lowcut': 300},\n",
       " 'Spectrogram': {'windowSize': 480,\n",
       "  'overlap': 0,\n",
       "  'sr': 48000,\n",
       "  'windowType': 'hanning',\n",
       "  'normalized': False,\n",
       "  'logf': False},\n",
       " 'Indices': {'Parameters': ['ACI',\n",
       "   'ADI',\n",
       "   'AEI',\n",
       "   'BI',\n",
       "   'NDSI',\n",
       "   'HS',\n",
       "   'HT',\n",
       "   'H'],\n",
       "  'freq_BI': [2000, 8000],\n",
       "  'freq_anthro': [1000, 2000],\n",
       "  'freq_bio': [2000, 11000],\n",
       "  'max_freq': 10000,\n",
       "  'freq_step': 1000,\n",
       "  'db_threshold': -50,\n",
       "  'tol': 1e-12,\n",
       "  'windowSize': 480,\n",
       "  'window': 60,\n",
       "  'half_window': 0,\n",
       "  'number_of_windows': 5}}"
      ]
     },
     "execution_count": 5,
     "metadata": {},
     "output_type": "execute_result"
    }
   ],
   "source": [
    "with open(configdir2 + '/defaults.yaml') as file:\n",
    "    par = yaml.load(file, Loader=yaml.FullLoader)\n",
    "par    "
   ]
  },
  {
   "cell_type": "code",
   "execution_count": 60,
   "id": "c0900106",
   "metadata": {
    "ExecuteTime": {
     "end_time": "2021-06-21T20:58:01.465683Z",
     "start_time": "2021-06-21T20:58:01.448706Z"
    }
   },
   "outputs": [
    {
     "name": "stdout",
     "output_type": "stream",
     "text": [
      "14400000\n",
      "6000\n",
      "3000\n",
      "30000\n",
      "con overlap 50%\n",
      "9\n",
      "sin overlap\n",
      "5\n"
     ]
    }
   ],
   "source": [
    "# LA PESADILLA DE LAS VENTANAS\n",
    "nsamples = 300 * 48000\n",
    "print(nsamples)\n",
    "# ventana de analisis de parametros \n",
    "par['Indices']['window'] = 60\n",
    "# ventana de analisis de fourier\n",
    "par['windowSize'] = 480 # en samples 10 ms\n",
    "# el tamano de la ventana de analisis de parametros medido en terminos de ventanas de fourier es\n",
    "FW = int(np.floor(par['Indices']['window']*par['sr']/(par['windowSize'])))\n",
    "print(FW)\n",
    "# media ventana de analisis \n",
    "HW = int(np.floor(par['Indices']['window']*par['sr']/(2*par['windowSize'])))\n",
    "print(HW)\n",
    "par['Indices']['half_window'] = HW\n",
    "NOWF = int(np.floor(nsamples / par['windowSize']))\n",
    "print(NOWF)\n",
    "# con overlap de 50%\n",
    "par['Indices']['number_of_windows'] = int(np.floor((NOWF-HW)/HW))\n",
    "print('con overlap 50%')\n",
    "print(par['Indices']['number_of_windows'])\n",
    "# sin overlap\n",
    "par['Indices']['number_of_windows'] = int(np.floor(NOWF/FW))\n",
    "print('sin overlap')\n",
    "print(par['Indices']['number_of_windows'])"
   ]
  },
  {
   "cell_type": "code",
   "execution_count": null,
   "id": "f6e48c2b",
   "metadata": {},
   "outputs": [],
   "source": [
    "nsamples = 300 * 48000\n",
    "print(nsamples)\n",
    "NOWF = int(np.floor(nsamples / par['windowSize']))\n",
    "if overlap:\n",
    "    HW = int(np.floor(par['Indices']['window']*par['sr']/(2*par['windowSize'])))\n",
    "    par['Indices']['number_of_windows'] = int(np.floor((NOWF-HW)/HW))\n",
    "else:\n",
    "    FW = int(np.floor(par['Indices']['window']*par['sr']/(par['windowSize'])))\n",
    "    par['Indices']['number_of_windows'] = int(np.floor(NOWF/FW))\n"
   ]
  },
  {
   "cell_type": "code",
   "execution_count": 57,
   "id": "caf4b466",
   "metadata": {
    "ExecuteTime": {
     "end_time": "2021-06-21T20:55:46.630575Z",
     "start_time": "2021-06-21T20:55:46.624593Z"
    }
   },
   "outputs": [],
   "source": [
    "files = os.listdir(recorddir)\n",
    "files_data = filter(lambda k: ('.pcm' in k), files)"
   ]
  },
  {
   "cell_type": "code",
   "execution_count": 59,
   "id": "1e20485d",
   "metadata": {
    "ExecuteTime": {
     "end_time": "2021-06-21T20:57:04.000513Z",
     "start_time": "2021-06-21T20:56:56.672754Z"
    },
    "scrolled": false
   },
   "outputs": [
    {
     "name": "stdout",
     "output_type": "stream",
     "text": [
      "2021_05_18_19_36_15.pcm\n",
      "(5, 1, 241, 6000)\n",
      "(5, 1, 2880000)\n",
      "(6000,)\n",
      "2021_05_18_19_37_15.pcm\n",
      "(5, 1, 241, 6000)\n",
      "(5, 1, 2880000)\n",
      "(6000,)\n",
      "2021_05_18_19_38_15.pcm\n",
      "(5, 1, 241, 6000)\n",
      "(5, 1, 2880000)\n",
      "(6000,)\n",
      "2021_05_18_19_39_15.pcm\n",
      "(5, 1, 241, 6000)\n",
      "(5, 1, 2880000)\n",
      "(6000,)\n",
      "2021_05_18_19_40_15.pcm\n",
      "(5, 1, 241, 6000)\n",
      "(5, 1, 2880000)\n",
      "(6000,)\n",
      "2021_05_18_19_41_15.pcm\n",
      "(5, 1, 241, 6000)\n",
      "(5, 1, 2880000)\n",
      "(6000,)\n",
      "2021_05_18_19_42_15.pcm\n",
      "(5, 1, 241, 6000)\n",
      "(5, 1, 2880000)\n",
      "(6000,)\n",
      "2021_05_18_19_43_15.pcm\n",
      "(5, 1, 241, 6000)\n",
      "(5, 1, 2880000)\n",
      "(6000,)\n",
      "2021_05_18_19_44_15.pcm\n",
      "(5, 1, 241, 6000)\n",
      "(5, 1, 2880000)\n",
      "(6000,)\n",
      "2021_05_18_19_45_15.pcm\n",
      "(5, 1, 241, 6000)\n",
      "(5, 1, 2880000)\n",
      "(6000,)\n"
     ]
    }
   ],
   "source": [
    "nmax = 2**(opt['nbytes']*8-1)\n",
    "with open('pepe.csv', \"a\") as fp:\n",
    "    for f in files_data:\n",
    "        print(f)\n",
    "        dn=[int(s) for s in fname.split('.')[0].split('_')]\n",
    "        tlast = datetime(dn[0],dn[1],dn[2],dn[3],dn[4],dn[5])\n",
    "        dump = np.fromfile(recorddir + '/' + f, dtype='u1', count=-1)\n",
    "        dump = np.delete(dump,np.arange(0,dump.size,3))\n",
    "        nsamples=dump.shape[0]//(opt['nchan']*opt['nbytes'])\n",
    "        data=np.reshape(dump.view(np.int16)/nmax,(nsamples,opt['nchan'])).astype('float32')\n",
    "        spec = sc.spectrogram(data[:,0],**par['Spectrogram'])\n",
    "        ind = sc.indices(spec,**par['Indices'])\n",
    "        dur = ind['nsamples']/par['sr']\n",
    "        indt = dur - ind['t']\n",
    "        tlist = [tlast - timedelta(seconds=t.item()) for t in indt]\n",
    "        for n,t in enumerate(tlist):\n",
    "            csvline = t.strftime(\"%Y-%m-%dT%H:%M:%SZ\") + \",\"\n",
    "            csvline += \",\".join([str(np.around(ind[k][0,n],decimals=3)) for k in opt['pkeys']]) + \"\\n\"\n",
    "            fp.write(csvline)\n"
   ]
  }
 ],
 "metadata": {
  "kernelspec": {
   "display_name": "Python 3",
   "language": "python",
   "name": "python3"
  },
  "language_info": {
   "codemirror_mode": {
    "name": "ipython",
    "version": 3
   },
   "file_extension": ".py",
   "mimetype": "text/x-python",
   "name": "python",
   "nbconvert_exporter": "python",
   "pygments_lexer": "ipython3",
   "version": "3.7.8"
  },
  "toc": {
   "base_numbering": 1,
   "nav_menu": {},
   "number_sections": true,
   "sideBar": true,
   "skip_h1_title": false,
   "title_cell": "Table of Contents",
   "title_sidebar": "Contents",
   "toc_cell": false,
   "toc_position": {},
   "toc_section_display": true,
   "toc_window_display": false
  },
  "varInspector": {
   "cols": {
    "lenName": 16,
    "lenType": 16,
    "lenVar": 40
   },
   "kernels_config": {
    "python": {
     "delete_cmd_postfix": "",
     "delete_cmd_prefix": "del ",
     "library": "var_list.py",
     "varRefreshCmd": "print(var_dic_list())"
    },
    "r": {
     "delete_cmd_postfix": ") ",
     "delete_cmd_prefix": "rm(",
     "library": "var_list.r",
     "varRefreshCmd": "cat(var_dic_list()) "
    }
   },
   "types_to_exclude": [
    "module",
    "function",
    "builtin_function_or_method",
    "instance",
    "_Feature"
   ],
   "window_display": false
  }
 },
 "nbformat": 4,
 "nbformat_minor": 5
}
